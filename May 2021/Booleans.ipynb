{
 "cells": [
  {
   "cell_type": "code",
   "execution_count": 2,
   "id": "1b54d13f",
   "metadata": {},
   "outputs": [
    {
     "name": "stdout",
     "output_type": "stream",
     "text": [
      "True\n",
      "False\n",
      "False\n"
     ]
    }
   ],
   "source": [
    "print (10 > 9)\n",
    "print (10 == 9)\n",
    "print (10 < 9)"
   ]
  },
  {
   "cell_type": "code",
   "execution_count": 5,
   "id": "204773f6",
   "metadata": {},
   "outputs": [
    {
     "name": "stdout",
     "output_type": "stream",
     "text": [
      "A is greater than B\n"
     ]
    }
   ],
   "source": [
    "a=10\n",
    "b=50\n",
    "\n",
    "if a < b:\n",
    "    print (\"A is greater than B\")\n",
    "else:\n",
    "    print (\"B is greater then A\")"
   ]
  },
  {
   "cell_type": "code",
   "execution_count": 12,
   "id": "46fd01b8",
   "metadata": {},
   "outputs": [
    {
     "name": "stdout",
     "output_type": "stream",
     "text": [
      "True\n",
      "True\n",
      "False\n",
      "False\n",
      "False\n"
     ]
    }
   ],
   "source": [
    "#Almost any value is evaluated to True if it has some sort of content.\n",
    "\n",
    "print (bool(\"hello\"))\n",
    "print (bool(16))\n",
    "\n",
    "#False value\n",
    "\n",
    "print (bool())\n",
    "print (bool(0))\n",
    "print (bool(\"\"))"
   ]
  },
  {
   "cell_type": "code",
   "execution_count": 27,
   "id": "e9228309",
   "metadata": {},
   "outputs": [
    {
     "name": "stdout",
     "output_type": "stream",
     "text": [
      "hello\n"
     ]
    }
   ],
   "source": [
    "x = \"10\", \"20\", \"30\", \"40\"\n",
    "y = \"20\"\n",
    "\n",
    "if y in x:\n",
    "    print (\"hello\")\n",
    "else:\n",
    "    print (\"y not in x list\")\n",
    "    "
   ]
  },
  {
   "cell_type": "code",
   "execution_count": null,
   "id": "0292f84f",
   "metadata": {},
   "outputs": [],
   "source": []
  },
  {
   "cell_type": "code",
   "execution_count": null,
   "id": "87ce931a",
   "metadata": {},
   "outputs": [],
   "source": []
  }
 ],
 "metadata": {
  "kernelspec": {
   "display_name": "Python 3",
   "language": "python",
   "name": "python3"
  },
  "language_info": {
   "codemirror_mode": {
    "name": "ipython",
    "version": 3
   },
   "file_extension": ".py",
   "mimetype": "text/x-python",
   "name": "python",
   "nbconvert_exporter": "python",
   "pygments_lexer": "ipython3",
   "version": "3.8.8"
  }
 },
 "nbformat": 4,
 "nbformat_minor": 5
}
