{
 "cells": [
  {
   "cell_type": "code",
   "execution_count": 1,
   "id": "4f7b54ad",
   "metadata": {},
   "outputs": [
    {
     "name": "stdout",
     "output_type": "stream",
     "text": [
      "Please select the calculator operation\n",
      "1. Addition\n",
      "2. Substract\n",
      "3. Multiplication\n",
      "4. Divide\n",
      "Select option: 1\n",
      "Enter 1st number= 12\n",
      "Enter 2nd number= 12\n",
      "12.0 + 12.0 = 24.0\n",
      "Select option: \n"
     ]
    },
    {
     "ename": "NameError",
     "evalue": "name 'Print' is not defined",
     "output_type": "error",
     "traceback": [
      "\u001b[0;31m---------------------------------------------------------------------------\u001b[0m",
      "\u001b[0;31mNameError\u001b[0m                                 Traceback (most recent call last)",
      "\u001b[0;32m<ipython-input-1-7cd1fc1e2b9c>\u001b[0m in \u001b[0;36m<module>\u001b[0;34m\u001b[0m\n\u001b[1;32m     39\u001b[0m             \u001b[0mprint\u001b[0m \u001b[0;34m(\u001b[0m\u001b[0mnum1\u001b[0m\u001b[0;34m,\u001b[0m \u001b[0;34m\"/\"\u001b[0m\u001b[0;34m,\u001b[0m \u001b[0mnum2\u001b[0m\u001b[0;34m,\u001b[0m \u001b[0;34m\"=\"\u001b[0m\u001b[0;34m,\u001b[0m \u001b[0mdiv\u001b[0m\u001b[0;34m(\u001b[0m\u001b[0mnum1\u001b[0m\u001b[0;34m,\u001b[0m \u001b[0mnum2\u001b[0m\u001b[0;34m)\u001b[0m\u001b[0;34m)\u001b[0m\u001b[0;34m\u001b[0m\u001b[0;34m\u001b[0m\u001b[0m\n\u001b[1;32m     40\u001b[0m     \u001b[0;32melse\u001b[0m\u001b[0;34m:\u001b[0m\u001b[0;34m\u001b[0m\u001b[0;34m\u001b[0m\u001b[0m\n\u001b[0;32m---> 41\u001b[0;31m         \u001b[0mPrint\u001b[0m \u001b[0;34m(\u001b[0m\u001b[0;34m\"Invalid Input\"\u001b[0m\u001b[0;34m)\u001b[0m\u001b[0;34m\u001b[0m\u001b[0;34m\u001b[0m\u001b[0m\n\u001b[0m\u001b[1;32m     42\u001b[0m \u001b[0;34m\u001b[0m\u001b[0m\n",
      "\u001b[0;31mNameError\u001b[0m: name 'Print' is not defined"
     ]
    }
   ],
   "source": [
    "#calculator\n",
    "\n",
    "def add(x, y):\n",
    "    return x + y\n",
    "\n",
    "def sub (x, y):\n",
    "    return x - y\n",
    "\n",
    "def mul(x, y):\n",
    "    return x * y\n",
    "\n",
    "def div(x, y):\n",
    "    return x / y\n",
    "\n",
    "print (\"Please select the calculator operation\")\n",
    "print (\"1. Addition\")\n",
    "print (\"2. Substract\")\n",
    "print (\"3. Multiplication\")\n",
    "print (\"4. Divide\")\n",
    "\n",
    "#User Input\n",
    "while True:\n",
    "    input1 = input(\"Select option: \")\n",
    "    \n",
    "    if input1 in ('1', '2', '3', '4'):\n",
    "        num1= float(input(\"Enter 1st number= \"))\n",
    "        num2= float(input(\"Enter 2nd number= \"))\n",
    "        \n",
    "        if input1 == '1':\n",
    "            print (num1, \"+\", num2, \"=\", add(num1, num2) )\n",
    "        \n",
    "        elif input1 == '2':\n",
    "            print (num1, \"-\", num2, \"=\", sub(num1, num2))\n",
    "    \n",
    "        elif input1 == '3':\n",
    "            print (num1, \"*\", num2, \"=\", mul(num1, num2))\n",
    "        \n",
    "        elif input1 == '4':\n",
    "            print (num1, \"/\", num2, \"=\", div(num1, num2))\n",
    "    else:\n",
    "        Print (\"Invalid Input\")\n",
    "        "
   ]
  },
  {
   "cell_type": "code",
   "execution_count": null,
   "id": "bcc5e4c7",
   "metadata": {},
   "outputs": [],
   "source": []
  },
  {
   "cell_type": "code",
   "execution_count": null,
   "id": "777748ef",
   "metadata": {},
   "outputs": [],
   "source": []
  }
 ],
 "metadata": {
  "kernelspec": {
   "display_name": "Python 3",
   "language": "python",
   "name": "python3"
  },
  "language_info": {
   "codemirror_mode": {
    "name": "ipython",
    "version": 3
   },
   "file_extension": ".py",
   "mimetype": "text/x-python",
   "name": "python",
   "nbconvert_exporter": "python",
   "pygments_lexer": "ipython3",
   "version": "3.8.8"
  }
 },
 "nbformat": 4,
 "nbformat_minor": 5
}
