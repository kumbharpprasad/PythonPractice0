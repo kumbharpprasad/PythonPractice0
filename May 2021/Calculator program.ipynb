{
 "cells": [
  {
   "cell_type": "code",
   "execution_count": null,
   "id": "4f7b54ad",
   "metadata": {},
   "outputs": [
    {
     "name": "stdout",
     "output_type": "stream",
     "text": [
      "Please select the desired operation\n",
      "1. Addition\n",
      "2. Substract\n",
      "3. Multiplication\n",
      "4. Divide\n",
      "Select option: 3\n",
      "Enter 1st number= 766665552.000987\n",
      "Enter 2nd number= 123444.9986\n",
      "766665552.000987 * 123444.9986 = 94641027993430.08\n"
     ]
    }
   ],
   "source": [
    "#calculator\n",
    "\n",
    "def add(x, y):\n",
    "    return x + y\n",
    "\n",
    "def sub (x, y):\n",
    "    return x - y\n",
    "\n",
    "def mul(x, y):\n",
    "    return x * y\n",
    "\n",
    "def div(x, y):\n",
    "    return x / y\n",
    "\n",
    "print (\"Please select the desired operation\")\n",
    "print (\"1. Addition\")\n",
    "print (\"2. Substract\")\n",
    "print (\"3. Multiplication\")\n",
    "print (\"4. Divide\")\n",
    "\n",
    "#User Input\n",
    "while True:\n",
    "    input1 = input(\"Select option: \")\n",
    "    \n",
    "    if input1 in ('1', '2', '3', '4'):\n",
    "        num1= float(input(\"Enter 1st number= \"))\n",
    "        num2= float(input(\"Enter 2nd number= \"))\n",
    "        \n",
    "        if input1 == '1':\n",
    "            print (num1, \"+\", num2, \"=\", add(num1, num2) )\n",
    "        \n",
    "        elif input1 == '2':\n",
    "            print (num1, \"-\", num2, \"=\", sub(num1, num2))\n",
    "    \n",
    "        elif input1 == '3':\n",
    "            print (num1, \"*\", num2, \"=\", mul(num1, num2))\n",
    "        \n",
    "        elif input1 == '4':\n",
    "            print (num1, \"/\", num2, \"=\", div(num1, num2))\n",
    "    else:\n",
    "        Print (\"Invalid Input\")\n",
    "        "
   ]
  },
  {
   "cell_type": "code",
   "execution_count": null,
   "id": "bcc5e4c7",
   "metadata": {},
   "outputs": [],
   "source": []
  },
  {
   "cell_type": "code",
   "execution_count": null,
   "id": "777748ef",
   "metadata": {},
   "outputs": [],
   "source": []
  }
 ],
 "metadata": {
  "kernelspec": {
   "display_name": "Python 3",
   "language": "python",
   "name": "python3"
  },
  "language_info": {
   "codemirror_mode": {
    "name": "ipython",
    "version": 3
   },
   "file_extension": ".py",
   "mimetype": "text/x-python",
   "name": "python",
   "nbconvert_exporter": "python",
   "pygments_lexer": "ipython3",
   "version": "3.8.8"
  }
 },
 "nbformat": 4,
 "nbformat_minor": 5
}
