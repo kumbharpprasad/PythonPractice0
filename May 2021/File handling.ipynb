{
 "cells": [
  {
   "cell_type": "code",
   "execution_count": 23,
   "id": "87ad6fd1",
   "metadata": {},
   "outputs": [
    {
     "name": "stdout",
     "output_type": "stream",
     "text": [
      "Hello world.\n",
      "\n",
      "this is prasad kumbhar\n",
      "\n",
      "i know anshul because he is my roommate.This is new Line appendedThis is new Line appended\n",
      "\n",
      " This is new Line appended\n"
     ]
    }
   ],
   "source": [
    "#open a file\n",
    "\n",
    "\n",
    "f = open(\"/Users/prasadkumbhar/Desktop/Python/Python/Data1.txt\")\n",
    "\n",
    "#print (f.readlines())\n",
    "\n",
    "for i in f:\n",
    "    print (i)\n",
    "f.close()"
   ]
  },
  {
   "cell_type": "code",
   "execution_count": 29,
   "id": "58dd4dd9",
   "metadata": {},
   "outputs": [
    {
     "name": "stdout",
     "output_type": "stream",
     "text": [
      "Hello world.\n",
      "this is prasad kumbhar\n",
      "i know anshul because he is my roommate.This is new Line appendedThis is new Line appended\n",
      " This is new Line appendedThis is new line I have addedThis is new line I have addedThis is new line I have addedThis is new line I have added\n"
     ]
    }
   ],
   "source": [
    "f = open(\"/Users/prasadkumbhar/Desktop/Python/Python/Data1.txt\", \"a\")\n",
    "\n",
    "f.write(\"This is new line I have added\")\n",
    "f.close()\n",
    "\n",
    "f= open(\"/Users/prasadkumbhar/Desktop/Python/Python/Data1.txt\")\n",
    "print(f.read())"
   ]
  },
  {
   "cell_type": "code",
   "execution_count": 34,
   "id": "d38242ba",
   "metadata": {},
   "outputs": [
    {
     "name": "stdout",
     "output_type": "stream",
     "text": [
      "Hello world.this is prasad kumbhar.\n",
      " I know anshul because he is my roommate.\n",
      " This is new Line appended.\n",
      "\n"
     ]
    }
   ],
   "source": [
    "f = open(\"/Users/prasadkumbhar/Desktop/Python/Python/Data1.txt\", \"w\")\n",
    "\n",
    "f.write(\"Hello world.this is prasad kumbhar.\\n I know anshul because he is my roommate.\\n This is new Line appended.\\n\")\n",
    "f.close()\n",
    "\n",
    "f= open(\"/Users/prasadkumbhar/Desktop/Python/Python/Data1.txt\")\n",
    "print(f.read())\n"
   ]
  },
  {
   "cell_type": "code",
   "execution_count": null,
   "id": "c7376972",
   "metadata": {},
   "outputs": [],
   "source": []
  },
  {
   "cell_type": "code",
   "execution_count": null,
   "id": "529b1c28",
   "metadata": {},
   "outputs": [],
   "source": []
  }
 ],
 "metadata": {
  "kernelspec": {
   "display_name": "Python 3",
   "language": "python",
   "name": "python3"
  },
  "language_info": {
   "codemirror_mode": {
    "name": "ipython",
    "version": 3
   },
   "file_extension": ".py",
   "mimetype": "text/x-python",
   "name": "python",
   "nbconvert_exporter": "python",
   "pygments_lexer": "ipython3",
   "version": "3.8.8"
  }
 },
 "nbformat": 4,
 "nbformat_minor": 5
}
