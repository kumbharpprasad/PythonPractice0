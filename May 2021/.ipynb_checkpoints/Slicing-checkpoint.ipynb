{
 "cells": [
  {
   "cell_type": "code",
   "execution_count": 2,
   "id": "81df8fe9",
   "metadata": {},
   "outputs": [
    {
     "name": "stdout",
     "output_type": "stream",
     "text": [
      "hello world\n",
      "ello w\n",
      "o world\n",
      "\n",
      "THIS IS ALL LOWER CASE\n"
     ]
    }
   ],
   "source": [
    "#slicing, [start:end]\n",
    "\n",
    "a=\"hello world\"\n",
    "\n",
    "print (a)\n",
    "\n",
    "print (a[1:7])\n",
    "print (a[4:])\n",
    "\n",
    "#Negative\n",
    "\n",
    "print (a[-5:-0])\n",
    "\n",
    "#upper case\n",
    "\n",
    "c=\"this is all lower case\"\n",
    "\n",
    "print (c.upper())"
   ]
  },
  {
   "cell_type": "code",
   "execution_count": 11,
   "id": "c0ce6ae2",
   "metadata": {},
   "outputs": [
    {
     "name": "stdout",
     "output_type": "stream",
     "text": [
      "hello world\n",
      "['hello', 'world']\n"
     ]
    }
   ],
   "source": [
    "#remove white space\n",
    "\n",
    "b=\"hello world\"\n",
    "\n",
    "print (b.strip())\n",
    "\n",
    "\n",
    "d=\"hello world\"\n",
    "\n",
    "print (d.split(\" \"))"
   ]
  },
  {
   "cell_type": "code",
   "execution_count": 14,
   "id": "cc1553b0",
   "metadata": {},
   "outputs": [
    {
     "name": "stdout",
     "output_type": "stream",
     "text": [
      "I want 3 pieces of item 500 for 39.5 dollars\n",
      "I want to pay 39.5 dollars for 3 pieces of item 500\n"
     ]
    }
   ],
   "source": [
    "#string format\n",
    "\n",
    "quantity = 3\n",
    "item = 500\n",
    "price = 39.50\n",
    "\n",
    "myorder = \"I want {} pieces of item {} for {} dollars\"\n",
    "myorder1 = \"I want to pay {2} dollars for {0} pieces of item {1}\"\n",
    "\n",
    "print (myorder.format(quantity, item, price))\n",
    "print (myorder1.format(quantity, item, price))"
   ]
  },
  {
   "cell_type": "code",
   "execution_count": 13,
   "id": "0f2bb338",
   "metadata": {},
   "outputs": [
    {
     "name": "stdout",
     "output_type": "stream",
     "text": [
      "2\n"
     ]
    }
   ],
   "source": [
    "d=\"hello this is prasad\"\n",
    "\n",
    "print(d.count(\"is\"))"
   ]
  },
  {
   "cell_type": "code",
   "execution_count": null,
   "id": "2a73ea95",
   "metadata": {},
   "outputs": [],
   "source": []
  }
 ],
 "metadata": {
  "kernelspec": {
   "display_name": "Python 3",
   "language": "python",
   "name": "python3"
  },
  "language_info": {
   "codemirror_mode": {
    "name": "ipython",
    "version": 3
   },
   "file_extension": ".py",
   "mimetype": "text/x-python",
   "name": "python",
   "nbconvert_exporter": "python",
   "pygments_lexer": "ipython3",
   "version": "3.8.8"
  }
 },
 "nbformat": 4,
 "nbformat_minor": 5
}
