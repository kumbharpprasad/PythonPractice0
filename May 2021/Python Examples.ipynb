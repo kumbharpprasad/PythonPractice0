{
 "cells": [
  {
   "cell_type": "code",
   "execution_count": 21,
   "id": "7e94f38f",
   "metadata": {},
   "outputs": [
    {
     "name": "stdout",
     "output_type": "stream",
     "text": [
      "1623100680.6010518\n",
      "Tue Jun  8 00:18:00 2021\n",
      "This is printed immediatly\n",
      "This is printed after 3 second\n",
      "local time is =  time.struct_time(tm_year=2021, tm_mon=6, tm_mday=8, tm_hour=0, tm_min=18, tm_sec=0, tm_wday=1, tm_yday=159, tm_isdst=1) \n",
      "\n",
      "\n",
      " Year =  2021\n",
      "\n",
      " Month =  6\n",
      "\n",
      " Weekday =  1\n",
      "\n",
      " Date = 8\n",
      "\n",
      " Timezone =  EEST\n",
      "06/08/21, 00:18:03\n"
     ]
    }
   ],
   "source": [
    "import time\n",
    "\n",
    "\n",
    "#number of seconds happens since epoch\n",
    "\n",
    "start= time.time()\n",
    "\n",
    "print (start) \n",
    "\n",
    "\n",
    "########################\n",
    "\n",
    "#Converts number of seconds from epoch to local time.\n",
    "\n",
    "seconds = start\n",
    "time1= time.ctime(seconds)\n",
    "print (time1)\n",
    "\n",
    "\n",
    "##########################\n",
    "\n",
    "#sleep function\n",
    "\n",
    "print (\"This is printed immediatly\")\n",
    "time.sleep(3)\n",
    "\n",
    "print (\"This is printed after 3 second\")\n",
    "\n",
    "#######################################\n",
    "\n",
    "#localtime\n",
    "\n",
    "time3=time.localtime(seconds)\n",
    "print (\"local time is = \", time3, \"\\n\")\n",
    "print (\"\\n Year = \", time3.tm_year) #using time.strucr_time class.\n",
    "print (\"\\n Month = \", time3.tm_mon) #month\n",
    "print (\"\\n Weekday = \", time3.tm_isdst) #weekday\n",
    "print (\"\\n Date =\", time3.tm_mday) #date\n",
    "print (\"\\n Timezone = \",time3.tm_zone)\n",
    "\n",
    "############################################################\n",
    "\n",
    "#inverst the localtime()\n",
    "\n",
    "time4 = (2021, 6, 7, 22, 17, 1, 0, 157, 1)\n",
    "\n",
    "time.mktime(time4)\n",
    "\n",
    "###################################\n",
    "\n",
    "#asci time\n",
    "\n",
    "time.asctime(time4)\n",
    "\n",
    "#####################################\n",
    "\n",
    "#custome time string\n",
    "\n",
    "time5 = time.localtime()\n",
    "time51= time.strftime(\"%m/%d/%y, %H:%M:%S\", time5)\n",
    "\n",
    "print (time51)\n"
   ]
  },
  {
   "cell_type": "code",
   "execution_count": 38,
   "id": "612f6afa",
   "metadata": {},
   "outputs": [
    {
     "name": "stdout",
     "output_type": "stream",
     "text": [
      "posix \n",
      "\n",
      "/Users/prasadkumbhar/Desktop/Python/Python/May 2021 \n",
      "\n",
      "environ({'TERM_PROGRAM': 'Apple_Terminal', 'SHELL': '/bin/zsh', 'TERM': 'xterm-color', 'TMPDIR': '/var/folders/xb/31bhbt297295rgfq3lq745400000gn/T/', 'CONDA_SHLVL': '1', 'CONDA_PROMPT_MODIFIER': '(base) ', 'TERM_PROGRAM_VERSION': '440', 'TERM_SESSION_ID': '0ABADD6A-D7EE-4FBE-8DD6-C8120D7C7DF4', 'USER': 'prasadkumbhar', 'CONDA_EXE': '/opt/anaconda3/bin/conda', 'SSH_AUTH_SOCK': '/private/tmp/com.apple.launchd.DKXRosaMLn/Listeners', '_CE_CONDA': '', 'PATH': '/opt/anaconda3/bin:/opt/anaconda3/condabin:/usr/local/bin:/usr/bin:/bin:/usr/sbin:/sbin', 'CONDA_PREFIX': '/opt/anaconda3', '__CFBundleIdentifier': 'com.apple.Terminal', 'PWD': '/Users/prasadkumbhar', 'XPC_FLAGS': '0x0', '_CE_M': '', 'XPC_SERVICE_NAME': '0', 'SHLVL': '2', 'HOME': '/Users/prasadkumbhar', 'CONDA_PYTHON_EXE': '/opt/anaconda3/bin/python', 'LOGNAME': 'prasadkumbhar', 'LC_CTYPE': 'UTF-8', 'CONDA_DEFAULT_ENV': 'base', '_': '/opt/anaconda3/bin/jupyter-notebook', 'JPY_PARENT_PID': '7147', 'CLICOLOR': '1', 'PAGER': 'cat', 'GIT_PAGER': 'cat', 'MPLBACKEND': 'module://ipykernel.pylab.backend_inline'})\n"
     ]
    }
   ],
   "source": [
    "#OS Module\n",
    "\n",
    "import os\n",
    "\n",
    "print (os.name, \"\\n\")\n",
    "print (os.getcwd(), \"\\n\")\n",
    "print (os.environ)\n",
    "\n"
   ]
  },
  {
   "cell_type": "code",
   "execution_count": null,
   "id": "881493c8",
   "metadata": {},
   "outputs": [],
   "source": []
  },
  {
   "cell_type": "code",
   "execution_count": null,
   "id": "5106d855",
   "metadata": {},
   "outputs": [],
   "source": []
  }
 ],
 "metadata": {
  "kernelspec": {
   "display_name": "Python 3",
   "language": "python",
   "name": "python3"
  },
  "language_info": {
   "codemirror_mode": {
    "name": "ipython",
    "version": 3
   },
   "file_extension": ".py",
   "mimetype": "text/x-python",
   "name": "python",
   "nbconvert_exporter": "python",
   "pygments_lexer": "ipython3",
   "version": "3.8.8"
  }
 },
 "nbformat": 4,
 "nbformat_minor": 5
}
