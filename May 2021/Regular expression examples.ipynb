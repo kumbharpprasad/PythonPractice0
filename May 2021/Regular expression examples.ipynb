{
 "cells": [
  {
   "cell_type": "code",
   "execution_count": 142,
   "id": "3960cbf0",
   "metadata": {},
   "outputs": [
    {
     "name": "stdout",
     "output_type": "stream",
     "text": [
      "Hello world.this is prasad kumbhar.\n"
     ]
    }
   ],
   "source": [
    "#regular expression\n",
    "\n",
    "import re\n",
    "\n",
    "file = open(\"/Users/prasadkumbhar/Desktop/Python/Python/Data1.txt\")\n",
    "a = (file.readlines())\n",
    "\n",
    "\n",
    "for line in a:\n",
    "    line=line.rstrip()\n",
    "    if re.search(\"prasad\", line):\n",
    "        print (line)\n",
    "    \n",
    "    \n"
   ]
  },
  {
   "cell_type": "code",
   "execution_count": null,
   "id": "58e545f3",
   "metadata": {},
   "outputs": [],
   "source": []
  },
  {
   "cell_type": "code",
   "execution_count": null,
   "id": "ccfe7b37",
   "metadata": {},
   "outputs": [],
   "source": []
  }
 ],
 "metadata": {
  "kernelspec": {
   "display_name": "Python 3",
   "language": "python",
   "name": "python3"
  },
  "language_info": {
   "codemirror_mode": {
    "name": "ipython",
    "version": 3
   },
   "file_extension": ".py",
   "mimetype": "text/x-python",
   "name": "python",
   "nbconvert_exporter": "python",
   "pygments_lexer": "ipython3",
   "version": "3.8.8"
  }
 },
 "nbformat": 4,
 "nbformat_minor": 5
}
