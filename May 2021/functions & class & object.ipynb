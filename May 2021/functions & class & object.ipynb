{
 "cells": [
  {
   "cell_type": "code",
   "execution_count": 10,
   "id": "2b1e34f0",
   "metadata": {},
   "outputs": [
    {
     "name": "stdout",
     "output_type": "stream",
     "text": [
      "hello this is prasad kumbhar\n"
     ]
    }
   ],
   "source": [
    "#functions\n",
    "\n",
    "\n",
    "\n",
    "def myfunc(fname):\n",
    "    print(\"hello this is prasad \" + fname)\n",
    "    \n",
    "myfunc(\"kumbhar\")"
   ]
  },
  {
   "cell_type": "code",
   "execution_count": 15,
   "id": "808b81e6",
   "metadata": {},
   "outputs": [
    {
     "name": "stdout",
     "output_type": "stream",
     "text": [
      "<__main__.myclass object at 0x7f93b199a880>\n"
     ]
    }
   ],
   "source": [
    "#class\n",
    "\n",
    "class myclass():\n",
    "    x=10\n",
    "    y=20\n",
    "    z=30\n",
    "\n",
    "P1 = myclass()\n",
    "\n",
    "print(P1)"
   ]
  },
  {
   "cell_type": "code",
   "execution_count": 38,
   "id": "cd4575cb",
   "metadata": {},
   "outputs": [
    {
     "name": "stdout",
     "output_type": "stream",
     "text": [
      "John\n",
      "36\n",
      "kumbhar\n"
     ]
    }
   ],
   "source": [
    "class Person:\n",
    "  def __init__(self, name, lastname, age):\n",
    "    self.name = name\n",
    "    self.lastname = lastname\n",
    "    self.age = age\n",
    "\n",
    "p1 = Person(\"John\", \"kumbhar\", 36)\n",
    "\n",
    "print(p1.name)\n",
    "print(p1.age)\n",
    "print(p1.lastname)\n"
   ]
  },
  {
   "cell_type": "code",
   "execution_count": null,
   "id": "2df4a412",
   "metadata": {},
   "outputs": [],
   "source": []
  }
 ],
 "metadata": {
  "kernelspec": {
   "display_name": "Python 3",
   "language": "python",
   "name": "python3"
  },
  "language_info": {
   "codemirror_mode": {
    "name": "ipython",
    "version": 3
   },
   "file_extension": ".py",
   "mimetype": "text/x-python",
   "name": "python",
   "nbconvert_exporter": "python",
   "pygments_lexer": "ipython3",
   "version": "3.8.8"
  }
 },
 "nbformat": 4,
 "nbformat_minor": 5
}
