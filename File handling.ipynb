{
 "cells": [
  {
   "cell_type": "code",
   "execution_count": 29,
   "metadata": {},
   "outputs": [
    {
     "name": "stdout",
     "output_type": "stream",
     "text": [
      "Hello world.\n",
      "\n",
      "['Hello', 'world.\\n']\n"
     ]
    }
   ],
   "source": [
    "a = open(\"Data1.txt\", \"r\")\n",
    "#print (a.read())\n",
    "\n",
    "b = (a.readline())    ### convert a line from a file to List\n",
    "print (b)\n",
    "mylist=(b.split(\" \"))\n",
    "print (mylist)"
   ]
  },
  {
   "cell_type": "code",
   "execution_count": 26,
   "metadata": {},
   "outputs": [],
   "source": [
    "a = open(\"Data1.txt\", \"a\")   ## Apend a file.\n",
    "\n",
    "a.write(\"\\n This is new Line appended\")\n",
    "a.close()\n",
    "\n"
   ]
  },
  {
   "cell_type": "code",
   "execution_count": 36,
   "metadata": {},
   "outputs": [
    {
     "name": "stdout",
     "output_type": "stream",
     "text": [
      "This is new file created using X option. \n",
      " Prasad Kumbhar is the owner of the file\n"
     ]
    }
   ],
   "source": [
    "a = open (\"Data2.txt\", \"x\")\n",
    "a.close()\n",
    "\n",
    "a = open(\"Data2.txt\", \"a\")\n",
    "a = a.write(\"This is new file created using X option. \\n Prasad Kumbhar is the owner of the file\")\n",
    "#a = a.write(\"\\n The file owner is Prsad Kumbhar\")\n",
    "\n",
    "\n",
    "a=open(\"Data2.txt\", \"r\")\n",
    "print (a.read())\n"
   ]
  }
 ],
 "metadata": {
  "kernelspec": {
   "display_name": "Python 3",
   "language": "python",
   "name": "python3"
  },
  "language_info": {
   "codemirror_mode": {
    "name": "ipython",
    "version": 3
   },
   "file_extension": ".py",
   "mimetype": "text/x-python",
   "name": "python",
   "nbconvert_exporter": "python",
   "pygments_lexer": "ipython3",
   "version": "3.6.5"
  }
 },
 "nbformat": 4,
 "nbformat_minor": 2
}
