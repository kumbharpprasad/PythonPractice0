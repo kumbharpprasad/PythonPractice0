{
 "cells": [
  {
   "cell_type": "code",
   "execution_count": 21,
   "metadata": {},
   "outputs": [
    {
     "name": "stdout",
     "output_type": "stream",
     "text": [
      "600\n"
     ]
    }
   ],
   "source": [
    "a = 20\n",
    "b = 30\n",
    "\n",
    "if a > b:\n",
    "    c=a+b\n",
    "    print (c)\n",
    "elif a == b:\n",
    "    print (\"a and b is equal\")\n",
    "else:\n",
    "    d=a*b\n",
    "    print (d)\n"
   ]
  },
  {
   "cell_type": "code",
   "execution_count": 34,
   "metadata": {},
   "outputs": [
    {
     "name": "stdout",
     "output_type": "stream",
     "text": [
      "a and b is not equal\n",
      "b is bigger than a\n"
     ]
    }
   ],
   "source": [
    "a= 20\n",
    "b= 30\n",
    "\n",
    "if a<b and b>20:print (\"a and b is not equal\")\n",
    "    \n",
    "print(a) if a>b else print(\"b is bigger than a\")"
   ]
  },
  {
   "cell_type": "code",
   "execution_count": 40,
   "metadata": {},
   "outputs": [
    {
     "name": "stdout",
     "output_type": "stream",
     "text": [
      "Value of a is = 10\n",
      "Value of a is = 11\n",
      "Value of a is = 12\n",
      "Value of a is 13\n"
     ]
    }
   ],
   "source": [
    "a = 10\n",
    "while a <= 15:\n",
    "    print (\"Value of a is =\", a)\n",
    "    a += 1\n",
    "    if a == 13:\n",
    "        print (\"Value of a is 13\")\n",
    "        break"
   ]
  },
  {
   "cell_type": "code",
   "execution_count": 43,
   "metadata": {},
   "outputs": [
    {
     "name": "stdout",
     "output_type": "stream",
     "text": [
      "prasad\n",
      "anshul\n",
      "prashant\n",
      "0\n",
      "1\n",
      "2\n",
      "3\n",
      "4\n",
      "5\n",
      "value of i is 5, hence breaking\n"
     ]
    }
   ],
   "source": [
    "list1 = [\"prasad\", \"anshul\", \"prashant\"]\n",
    "\n",
    "for i in list1:\n",
    "    print (i)\n",
    "    \n",
    "for i in range(10):\n",
    "    print (i)\n",
    "    if i == 5:\n",
    "        print (\"value of i is 5, hence breaking\")\n",
    "        break\n",
    "        "
   ]
  }
 ],
 "metadata": {
  "kernelspec": {
   "display_name": "Python 3",
   "language": "python",
   "name": "python3"
  },
  "language_info": {
   "codemirror_mode": {
    "name": "ipython",
    "version": 3
   },
   "file_extension": ".py",
   "mimetype": "text/x-python",
   "name": "python",
   "nbconvert_exporter": "python",
   "pygments_lexer": "ipython3",
   "version": "3.6.5"
  }
 },
 "nbformat": 4,
 "nbformat_minor": 2
}
