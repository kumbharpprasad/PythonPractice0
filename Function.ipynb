{
 "cells": [
  {
   "cell_type": "code",
   "execution_count": 16,
   "metadata": {},
   "outputs": [
    {
     "name": "stdout",
     "output_type": "stream",
     "text": [
      "hello prasad Good Morning\n",
      "hello anshul Good Morning\n",
      "hello prashant Good Morning\n"
     ]
    }
   ],
   "source": [
    "def print_func(par):\n",
    "    for i in par:\n",
    "         print (\"hello \" + i + \" Good Morning\")\n",
    "       \n",
    "\n",
    "name = [\"prasad\",\"anshul\",\"prashant\"]\n",
    "\n",
    "print_func(name)"
   ]
  },
  {
   "cell_type": "code",
   "execution_count": 31,
   "metadata": {},
   "outputs": [
    {
     "name": "stdout",
     "output_type": "stream",
     "text": [
      "1329560638\n",
      "15\n"
     ]
    }
   ],
   "source": [
    "def multi_fun(x):\n",
    "    return 7*x\n",
    "\n",
    "print (multi_fun(189937234))\n",
    "\n",
    "\n",
    "    \n",
    "  \n"
   ]
  },
  {
   "cell_type": "code",
   "execution_count": null,
   "metadata": {},
   "outputs": [],
   "source": []
  }
 ],
 "metadata": {
  "kernelspec": {
   "display_name": "Python 3",
   "language": "python",
   "name": "python3"
  },
  "language_info": {
   "codemirror_mode": {
    "name": "ipython",
    "version": 3
   },
   "file_extension": ".py",
   "mimetype": "text/x-python",
   "name": "python",
   "nbconvert_exporter": "python",
   "pygments_lexer": "ipython3",
   "version": "3.6.5"
  }
 },
 "nbformat": 4,
 "nbformat_minor": 2
}
