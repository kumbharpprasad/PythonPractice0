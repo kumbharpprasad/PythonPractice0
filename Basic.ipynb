{
 "cells": [
  {
   "cell_type": "code",
   "execution_count": 10,
   "metadata": {},
   "outputs": [
    {
     "name": "stdout",
     "output_type": "stream",
     "text": [
      "['prasad', 'yogi', 'viki', 'Sid', 'anshul', 'prashant']\n",
      "['prashant', 'anshul', 'Sid', 'viki', 'yogi', 'prasad']\n"
     ]
    },
    {
     "data": {
      "text/plain": [
       "'dlrow olleh'"
      ]
     },
     "execution_count": 10,
     "metadata": {},
     "output_type": "execute_result"
    }
   ],
   "source": [
    "a = [\"prasad\", \"anshul\", \"prashant\"]\n",
    "\n",
    "#add values in string\n",
    "a.insert(1,\"yogi\")      \n",
    "a.insert(2,\"viki\")\n",
    "a.insert(3,\"Sid\")\n",
    "\n",
    "print(a)\n",
    "\n",
    "#slicing\n",
    "#reverse the string\n",
    "\n",
    "print (a[::-1])\n",
    "'hello world'[::-1]\n",
    "\n",
    "#b = 'prasad kumbhar'\n",
    "\n",
    "#print=(list(reversed(b)))\n",
    "\n",
    "#mydict = {\n",
    "#    \"prasad\": \"Pune\",\n",
    "#    \"Anshul\": \"Ambala\",\n",
    "#    \"Prashant\": \"patana\"\n",
    "#         }\n",
    "\n",
    "#mydict['Anshul']= \"Banglore\"\n",
    "#mydict['Ani']= \"Chennai\"\n",
    "\n",
    "#mydict1 = mydict.copy()\n",
    "\n",
    "#print (\"this is nwew dictonary mydict1=\", mydict1)\n",
    "\n",
    "#print (\"This is old dictonary mydict=\", mydict)\n",
    "\n",
    "#mydict.clear()\n",
    "\n",
    "#print (\"I have cleared dictonary=\", mydict)\n",
    "\n",
    "#if 'prasad' in mydict:\n",
    "#    print (\"Yes, Prasad is present in this dict & its value is = \", mydict['prasad'])"
   ]
  },
  {
   "cell_type": "code",
   "execution_count": null,
   "metadata": {},
   "outputs": [],
   "source": []
  },
  {
   "cell_type": "code",
   "execution_count": null,
   "metadata": {},
   "outputs": [],
   "source": []
  }
 ],
 "metadata": {
  "kernelspec": {
   "display_name": "Python 3",
   "language": "python",
   "name": "python3"
  },
  "language_info": {
   "codemirror_mode": {
    "name": "ipython",
    "version": 3
   },
   "file_extension": ".py",
   "mimetype": "text/x-python",
   "name": "python",
   "nbconvert_exporter": "python",
   "pygments_lexer": "ipython3",
   "version": "3.8.8"
  }
 },
 "nbformat": 4,
 "nbformat_minor": 2
}
