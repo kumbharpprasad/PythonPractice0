{
 "cells": [
  {
   "cell_type": "code",
   "execution_count": 12,
   "metadata": {},
   "outputs": [
    {
     "name": "stdout",
     "output_type": "stream",
     "text": [
      "Please enter your name=Prasad\n",
      "Please enter your last name=Kumbhar\n",
      "Your full name is Prasad Kumbhar\n"
     ]
    }
   ],
   "source": [
    "###User Input##\n",
    "a=input('Please enter your name=')\n",
    "b=input(\"Please enter your last name=\")\n",
    "\n",
    "c = print ('Your full name is', a+\" \"+b)\n",
    "\n"
   ]
  },
  {
   "cell_type": "code",
   "execution_count": 46,
   "metadata": {},
   "outputs": [
    {
     "name": "stdout",
     "output_type": "stream",
     "text": [
      "rahbmuk dasarp\n",
      "['prasad', 'kumbhar']\n",
      "['kumbhar', 'prasad']\n"
     ]
    }
   ],
   "source": [
    "##Reverse the string###\n",
    "\n",
    "\n",
    "a = \"prasad kumbhar\"\n",
    "\n",
    "\n",
    "print (a[::-1])    ##reverse the string\n",
    "\n",
    "mylist= (a.split(\" \"))   ## convert string into list\n",
    "\n",
    "print (mylist)\n",
    "\n",
    "\n",
    "print (mylist[::-1])  ## resverse the list"
   ]
  },
  {
   "cell_type": "code",
   "execution_count": null,
   "metadata": {},
   "outputs": [],
   "source": []
  }
 ],
 "metadata": {
  "kernelspec": {
   "display_name": "Python 3",
   "language": "python",
   "name": "python3"
  },
  "language_info": {
   "codemirror_mode": {
    "name": "ipython",
    "version": 3
   },
   "file_extension": ".py",
   "mimetype": "text/x-python",
   "name": "python",
   "nbconvert_exporter": "python",
   "pygments_lexer": "ipython3",
   "version": "3.8.8"
  }
 },
 "nbformat": 4,
 "nbformat_minor": 2
}
