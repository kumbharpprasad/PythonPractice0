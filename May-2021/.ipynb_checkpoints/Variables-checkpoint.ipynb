{
 "cells": [
  {
   "cell_type": "code",
   "execution_count": 10,
   "id": "7bb73fac",
   "metadata": {},
   "outputs": [
    {
     "name": "stdout",
     "output_type": "stream",
     "text": [
      "Prasad\n",
      "one\n",
      "2\n",
      "3.0\n",
      "<class 'str'>\n",
      "<class 'int'>\n",
      "<class 'float'>\n",
      "DoubleQuote\n",
      "Captital letter\n"
     ]
    }
   ],
   "source": [
    "#variable\n",
    "\n",
    "x= 4\n",
    "x= \"Prasad\"\n",
    "\n",
    "print (x)\n",
    "\n",
    "# Variable with data type mentioned\n",
    "\n",
    "y= str(\"one\")\n",
    "print (y)\n",
    "\n",
    "y= int(2)\n",
    "print (y)\n",
    "\n",
    "y= float(3.0)\n",
    "print (y)\n",
    "\n",
    "#Data type\n",
    "\n",
    "a= \"1\"\n",
    "b= 1 \n",
    "c= 1.0\n",
    "\n",
    "print (type(a))\n",
    "print (type(b))\n",
    "print (type(c))\n",
    "\n",
    "#single or double quotes\n",
    "\n",
    "a= 'SingleQuote'\n",
    "a= \"DoubleQuote\"\n",
    "\n",
    "print (a)\n",
    "\n",
    "#Case sensitive; \n",
    "\n",
    "a = 2\n",
    "A = \"Captital letter\"\n",
    "\n",
    "print (A)    #A will not overwrite a\n",
    "\n"
   ]
  },
  {
   "cell_type": "code",
   "execution_count": 4,
   "id": "c40d89c5",
   "metadata": {},
   "outputs": [
    {
     "name": "stdout",
     "output_type": "stream",
     "text": [
      "Prasad\n",
      "Sid\n",
      "Viki\n",
      "Apple\n",
      "Mango\n",
      "Orange\n"
     ]
    }
   ],
   "source": [
    "#assign multiple values\n",
    "\n",
    "x, y, z = (\"Prasad\", \"Sid\", \"Viki\")\n",
    "\n",
    "print (x)\n",
    "print (y)\n",
    "print (z)\n",
    "\n",
    "#unpack a collection\n",
    "\n",
    "fruits = (\"Apple\", \"Mango\", \"Orange\")\n",
    "a, b, c = fruits\n",
    "\n",
    "print (a)\n",
    "print (b)\n",
    "print (c)\n",
    "\n",
    "#while unpacking, variable must be equal to values in list or tuple"
   ]
  },
  {
   "cell_type": "code",
   "execution_count": 12,
   "id": "f764468f",
   "metadata": {},
   "outputs": [
    {
     "name": "stdout",
     "output_type": "stream",
     "text": [
      "I love you Sailee\n",
      "Sailee Prasad\n"
     ]
    }
   ],
   "source": [
    "#output variables\n",
    "\n",
    "x= \"Sailee\"\n",
    "\n",
    "print (\"I love you \" + x)\n",
    "\n",
    "\n",
    "\n",
    "x = \"Sailee\"\n",
    "y = \"Prasad\"\n",
    "\n",
    "print (x, \"\" + y)    #\"\" > is for space\n"
   ]
  },
  {
   "cell_type": "code",
   "execution_count": 18,
   "id": "38f77f02",
   "metadata": {},
   "outputs": [
    {
     "name": "stdout",
     "output_type": "stream",
     "text": [
      "Python is fantastic\n",
      "Python is Amazing\n",
      "Best\n",
      "Python is Best\n"
     ]
    }
   ],
   "source": [
    "#global variable\n",
    "\n",
    "x= \"Amazing\"\n",
    "\n",
    "def myfunc():\n",
    "    x = \"fantastic\"\n",
    "    print (\"Python is \" + x)\n",
    "    \n",
    "myfunc()\n",
    "\n",
    "print (\"Python is \" + x)\n",
    "\n",
    "\n",
    "#The global keyword,\n",
    "#Normally variable created inside pythom is local. To create a global variavl, use word global.\n",
    "\n",
    "\n",
    "def myfunc1():\n",
    "    global x\n",
    "    x = \"Best\"\n",
    "    print (x)\n",
    "\n",
    "myfunc1()\n",
    "print (\"Python is \" + x)"
   ]
  },
  {
   "cell_type": "code",
   "execution_count": null,
   "id": "fe98db98",
   "metadata": {},
   "outputs": [],
   "source": []
  }
 ],
 "metadata": {
  "kernelspec": {
   "display_name": "Python 3",
   "language": "python",
   "name": "python3"
  },
  "language_info": {
   "codemirror_mode": {
    "name": "ipython",
    "version": 3
   },
   "file_extension": ".py",
   "mimetype": "text/x-python",
   "name": "python",
   "nbconvert_exporter": "python",
   "pygments_lexer": "ipython3",
   "version": "3.8.8"
  }
 },
 "nbformat": 4,
 "nbformat_minor": 5
}
