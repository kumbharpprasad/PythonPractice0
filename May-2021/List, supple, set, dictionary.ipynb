{
 "cells": [
  {
   "cell_type": "code",
   "execution_count": 29,
   "id": "996b6850",
   "metadata": {},
   "outputs": [
    {
     "name": "stdout",
     "output_type": "stream",
     "text": [
      "['sid', 'viki', 'Prasad', 'Yogi']\n",
      "['viki', 'Prasad', 'Yogi']\n",
      "['sid', 'rahul', 'viki', 'Prasad', 'Yogi']\n"
     ]
    }
   ],
   "source": [
    "mylist = [\"sid\", \"viki\", \"Prasad\"]\n",
    "\n",
    "mylist.append(\"Yogi\")\n",
    "\n",
    "print (mylist)\n",
    "\n",
    "print (mylist[1:4])\n",
    "\n",
    "#mylist.remove[\"Yogi\"]\n",
    "\n",
    "mylist.insert(1, \"rahul\")\n",
    "\n",
    "print (mylist)\n",
    "\n"
   ]
  },
  {
   "cell_type": "code",
   "execution_count": 35,
   "id": "3695a616",
   "metadata": {},
   "outputs": [
    {
     "name": "stdout",
     "output_type": "stream",
     "text": [
      "['sid', 'prasad', 'viki', 'yogi']\n",
      "['sid', 'prasad', 'viki']\n",
      "['sid', 'prasad']\n",
      "['sid']\n",
      "[]\n"
     ]
    }
   ],
   "source": [
    "mylist = [\"sid\", \"prasad\"]\n",
    "mylist1 = [\"viki\", \"yogi\"]\n",
    "\n",
    "mylist.extend(mylist1)\n",
    "\n",
    "print (mylist)\n",
    "\n",
    "mylist.remove(\"yogi\")\n",
    "\n",
    "print (mylist)\n",
    "\n",
    "mylist.pop(2)\n",
    "\n",
    "print (mylist)\n",
    "\n",
    "del mylist[1]\n",
    "\n",
    "print (mylist)\n",
    "\n",
    "mylist.clear()\n",
    "\n",
    "print (mylist)"
   ]
  },
  {
   "cell_type": "code",
   "execution_count": 36,
   "id": "77863d92",
   "metadata": {},
   "outputs": [
    {
     "name": "stdout",
     "output_type": "stream",
     "text": [
      "1\n",
      "2\n",
      "3\n",
      "4\n"
     ]
    }
   ],
   "source": [
    "nums = [\"1\", \"2\", \"3\", \"4\"]\n",
    "\n",
    "for x in nums:\n",
    "    print (x)"
   ]
  },
  {
   "cell_type": "code",
   "execution_count": 53,
   "id": "f5370fe2",
   "metadata": {},
   "outputs": [
    {
     "name": "stdout",
     "output_type": "stream",
     "text": [
      "1\n",
      "2\n",
      "3\n",
      "4\n",
      "5\n",
      "6\n",
      "7\n",
      "8\n",
      "9\n"
     ]
    }
   ],
   "source": [
    "for i in (range(1,10)):\n",
    "    print (i)\n",
    "    "
   ]
  },
  {
   "cell_type": "code",
   "execution_count": 90,
   "id": "3f1018e4",
   "metadata": {},
   "outputs": [
    {
     "data": {
      "text/plain": [
       "['yogi', 'viki', 'prasad', 'sid']"
      ]
     },
     "execution_count": 90,
     "metadata": {},
     "output_type": "execute_result"
    }
   ],
   "source": [
    "name=[\"sid\", \"prasad\", \"viki\", \"yogi\"]\n",
    "\n",
    "name[::-1]\n",
    "  "
   ]
  },
  {
   "cell_type": "code",
   "execution_count": 7,
   "id": "d036ba68",
   "metadata": {},
   "outputs": [
    {
     "name": "stdout",
     "output_type": "stream",
     "text": [
      "prasad\n",
      "('prasad', 'viki', 'yogi')\n",
      "(1, 2, 3, 'a', 'b', 'c')\n"
     ]
    }
   ],
   "source": [
    "#Tupples\n",
    "\n",
    "atupple=(\"sid\", \"prasad\", \"viki\", \"yogi\")\n",
    "\n",
    "print(atupple[1])\n",
    "print (atupple[1:4])\n",
    "\n",
    "T1=(1, 2, 3)\n",
    "T2=(\"a\", \"b\", \"c\")\n",
    "\n",
    "T3 = T1 + T2\n",
    "print (T3)"
   ]
  },
  {
   "cell_type": "code",
   "execution_count": 35,
   "id": "f9d0b27f",
   "metadata": {},
   "outputs": [
    {
     "name": "stdout",
     "output_type": "stream",
     "text": [
      "BMW\n",
      "BMW\n",
      "{'Brand': 'BMW', 'Model': 'GT', 'year': '2015', 'color': 'black'}\n",
      "{'Brand': 'BMW', 'Model': '5series', 'year': '2015', 'color': 'black'}\n",
      "{'Brand': 'BMW', 'Model': '5series', 'year': '2015'}\n",
      "BMW\n",
      "5series\n",
      "2015\n",
      "Brand BMW\n",
      "Model 5series\n",
      "year 2015\n",
      "{'Brand': 'BMW', 'Model': '5series', 'year': '2015'}\n"
     ]
    }
   ],
   "source": [
    "#Dictionary\n",
    "\n",
    "mydict = {\"Brand\" : \"BMW\", \n",
    "         \"Model\" : \"GT\",\n",
    "         \"year\" : \"2015\"}\n",
    "\n",
    "print(mydict[\"Brand\"])\n",
    "print(mydict.get(\"Brand\"))\n",
    "mydict.values()\n",
    "\n",
    "mydict[\"color\"] = \"black\"\n",
    "\n",
    "print(mydict)\n",
    "\n",
    "mydict[\"Model\"] =\"5series\"\n",
    "\n",
    "print(mydict)\n",
    "\n",
    "mydict.pop(\"color\")\n",
    "\n",
    "print(mydict)\n",
    "\n",
    "for i in mydict.values():\n",
    "    print (i)\n",
    "    \n",
    "    \n",
    "for x, y in mydict.items():\n",
    "    print (x, y)\n",
    "    \n",
    "#copying dict\n",
    "\n",
    "newdict = mydict.copy()\n",
    "\n",
    "print (newdict)"
   ]
  },
  {
   "cell_type": "code",
   "execution_count": 40,
   "id": "06770895",
   "metadata": {},
   "outputs": [
    {
     "name": "stdout",
     "output_type": "stream",
     "text": [
      "{'name': 'Siddhesh nikud', 'age': '33'}\n",
      "{'name': 'prasad Kumbhar', 'age': '33'}\n",
      "{'name': 'Vikram Kerkar', 'Age': '34'}\n"
     ]
    }
   ],
   "source": [
    "#nested dicts to store more detail values\n",
    "\n",
    "\n",
    "dict1 = {\"Sid\" : {\"name\" : \"Siddhesh nikud\",\n",
    "                 \"age\" : \"33\"},\n",
    "        \"prasad\" : {\"name\" : \"prasad Kumbhar\",\n",
    "                   \"age\" : \"33\"},\n",
    "        \"Viki\" : {\"name\" : \"Vikram Kerkar\",\n",
    "                 \"Age\" : \"34\"}\n",
    "        }\n",
    "\n",
    "print (dict1[\"Sid\"])\n",
    "print (dict1[\"prasad\"])\n",
    "print (dict1[\"Viki\"])"
   ]
  },
  {
   "cell_type": "code",
   "execution_count": null,
   "id": "456e5302",
   "metadata": {},
   "outputs": [],
   "source": []
  },
  {
   "cell_type": "code",
   "execution_count": null,
   "id": "49f98386",
   "metadata": {},
   "outputs": [],
   "source": []
  }
 ],
 "metadata": {
  "kernelspec": {
   "display_name": "Python 3",
   "language": "python",
   "name": "python3"
  },
  "language_info": {
   "codemirror_mode": {
    "name": "ipython",
    "version": 3
   },
   "file_extension": ".py",
   "mimetype": "text/x-python",
   "name": "python",
   "nbconvert_exporter": "python",
   "pygments_lexer": "ipython3",
   "version": "3.8.8"
  }
 },
 "nbformat": 4,
 "nbformat_minor": 5
}
