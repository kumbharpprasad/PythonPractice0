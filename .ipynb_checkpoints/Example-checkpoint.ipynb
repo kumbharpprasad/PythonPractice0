{
 "cells": [
  {
   "cell_type": "code",
   "execution_count": null,
   "metadata": {},
   "outputs": [],
   "source": [
    "### Search the file with name contain \".py\" in the name in current directory.\n",
    "\n",
    "import fnmatch\n",
    "import os\n",
    "\n",
    "pattern = '*.py*'\n",
    "\n",
    "#print (\"pattern:\", pattern)\n",
    "\n",
    "#files = os.listdir('.')\n",
    "\n",
    "\n",
    "\n",
    "for file in os.listdir('.'):\n",
    "    if fnmatch.fnmatchcase(file, '[A-Z]3[a-z].txt' ):\n",
    "        print (file)\n",
    "\n",
    "\n",
    "\n"
   ]
  },
  {
   "cell_type": "code",
   "execution_count": 5,
   "metadata": {},
   "outputs": [
    {
     "name": "stdout",
     "output_type": "stream",
     "text": [
      "Please enter your question: \n",
      "hi\n",
      "this is 3rd line\n",
      "I hoped it helped\n",
      "do you have another quesion?\n",
      "N\n",
      "Good Bye\n"
     ]
    }
   ],
   "source": [
    "\n",
    "import random\n",
    "\n",
    "answer = [\"this is 1st line\", \"this is 2nd line\", \"this is 3rd line\", \"this is 4th line\", \"this is 5th line\", \"this is 6th line\", \"this is 7th line\", \"this is 8th line\"]\n",
    "\n",
    "def magicball8():\n",
    "    print (\"Please enter your question: \")\n",
    "    input()\n",
    "    print (answer[random.randint(0, len(answer)-1)])\n",
    "    print (\"I hoped it helped\")\n",
    "    replay()\n",
    "    \n",
    "def replay():\n",
    "    print (\"do you have another quesion?\")\n",
    "    reply=input()\n",
    "    \n",
    "    if reply == 'Y':\n",
    "        magicball8()\n",
    "    if reply == 'N':\n",
    "        print (\"Good Bye\")\n",
    "        exit()\n",
    "    else:\n",
    "        print (\"Oops no reply, please repeat \")\n",
    "        replay()\n",
    "    \n",
    "magicball8()\n",
    "        "
   ]
  },
  {
   "cell_type": "code",
   "execution_count": null,
   "metadata": {},
   "outputs": [],
   "source": []
  },
  {
   "cell_type": "code",
   "execution_count": null,
   "metadata": {},
   "outputs": [],
   "source": []
  }
 ],
 "metadata": {
  "kernelspec": {
   "display_name": "Python 3",
   "language": "python",
   "name": "python3"
  },
  "language_info": {
   "codemirror_mode": {
    "name": "ipython",
    "version": 3
   },
   "file_extension": ".py",
   "mimetype": "text/x-python",
   "name": "python",
   "nbconvert_exporter": "python",
   "pygments_lexer": "ipython3",
   "version": "3.6.5"
  }
 },
 "nbformat": 4,
 "nbformat_minor": 2
}
