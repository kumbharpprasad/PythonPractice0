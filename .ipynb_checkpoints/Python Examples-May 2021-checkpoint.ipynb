{
 "cells": [
  {
   "cell_type": "code",
   "execution_count": 10,
   "id": "7bb73fac",
   "metadata": {},
   "outputs": [
    {
     "name": "stdout",
     "output_type": "stream",
     "text": [
      "Prasad\n",
      "one\n",
      "2\n",
      "3.0\n",
      "<class 'str'>\n",
      "<class 'int'>\n",
      "<class 'float'>\n",
      "DoubleQuote\n",
      "Captital letter\n"
     ]
    }
   ],
   "source": [
    "#variable\n",
    "\n",
    "x= 4\n",
    "x= \"Prasad\"\n",
    "\n",
    "print (x)\n",
    "\n",
    "# Variable with data type mentioned\n",
    "\n",
    "y= str(\"one\")\n",
    "print (y)\n",
    "\n",
    "y= int(2)\n",
    "print (y)\n",
    "\n",
    "y= float(3.0)\n",
    "print (y)\n",
    "\n",
    "#Data type\n",
    "\n",
    "a= \"1\"\n",
    "b= 1 \n",
    "c= 1.0\n",
    "\n",
    "print (type(a))\n",
    "print (type(b))\n",
    "print (type(c))\n",
    "\n",
    "#single or double quotes\n",
    "\n",
    "a= 'SingleQuote'\n",
    "a= \"DoubleQuote\"\n",
    "\n",
    "print (a)\n",
    "\n",
    "#Case sensitive; \n",
    "\n",
    "a = 2\n",
    "A = \"Captital letter\"\n",
    "\n",
    "print (A)    #A will not overwrite a\n",
    "\n"
   ]
  },
  {
   "cell_type": "code",
   "execution_count": null,
   "id": "c40d89c5",
   "metadata": {},
   "outputs": [],
   "source": []
  }
 ],
 "metadata": {
  "kernelspec": {
   "display_name": "Python 3",
   "language": "python",
   "name": "python3"
  },
  "language_info": {
   "codemirror_mode": {
    "name": "ipython",
    "version": 3
   },
   "file_extension": ".py",
   "mimetype": "text/x-python",
   "name": "python",
   "nbconvert_exporter": "python",
   "pygments_lexer": "ipython3",
   "version": "3.8.8"
  }
 },
 "nbformat": 4,
 "nbformat_minor": 5
}
